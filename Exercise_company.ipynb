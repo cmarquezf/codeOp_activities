{
 "cells": [
  {
   "cell_type": "code",
   "execution_count": 1,
   "id": "ec6e2f48",
   "metadata": {},
   "outputs": [],
   "source": [
    "import psycopg2\n",
    "\n",
    "conn = psycopg2.connect(\n",
    "database=\"Company\",\n",
    "host=\"localhost\",\n",
    "user=\"postgres\",\n",
    "password=\"carmen\",\n",
    "port=\"5432\")\n",
    "\n",
    "cursor = conn.cursor()  "
   ]
  },
  {
   "cell_type": "code",
   "execution_count": 49,
   "id": "e57f12a8",
   "metadata": {},
   "outputs": [
    {
     "name": "stdout",
     "output_type": "stream",
     "text": [
      "(30, 'Marketing')\n",
      "(40, 'IT')\n",
      "(30, 'HR')\n"
     ]
    }
   ],
   "source": [
    "#1. How many projects are the IT, Marketing and HR departments working on?\n",
    "\n",
    "cursor.execute('''SELECT COUNT(p.\"project_ID\"), j.\"department\"\n",
    "    FROM \"Employees\" e\n",
    "    LEFT JOIN \"Jobs\" j ON e.\"job_code\" = j.\"job_code\"\n",
    "    LEFT JOIN \"Projects\" p ON e.\"project_ID\" = p.\"project_ID\"\n",
    "    GROUP BY j.\"department\";''')\n",
    "               \n",
    "rows = cursor.fetchall()\n",
    "\n",
    "conn.commit()\n",
    "\n",
    "for row in rows:\n",
    "    print (row)"
   ]
  },
  {
   "cell_type": "code",
   "execution_count": 53,
   "id": "132615ae",
   "metadata": {},
   "outputs": [
    {
     "name": "stdout",
     "output_type": "stream",
     "text": [
      "(3, 'Completed')\n",
      "(4, 'In Progress')\n",
      "(3, 'Not Started')\n"
     ]
    }
   ],
   "source": [
    "#2. How many projects are in progress, completed, or not started?\n",
    "\n",
    "cursor.execute('''SELECT COUNT(p.\"project_ID\"), s.\"project_status\"\n",
    "    FROM \"Projects\" p\n",
    "    LEFT JOIN \"Status\" s ON p.\"status_ID\" = s.\"status_ID\"\n",
    "    GROUP BY s.\"project_status\";''')\n",
    "rows = cursor.fetchall()\n",
    "conn.commit()\n",
    "for row in rows:\n",
    "    print (row)"
   ]
  },
  {
   "cell_type": "code",
   "execution_count": 54,
   "id": "6006ed85",
   "metadata": {},
   "outputs": [
    {
     "name": "stdout",
     "output_type": "stream",
     "text": [
      "(20, 'Marketing')\n",
      "(20, 'Programming')\n",
      "(20, 'Recruiting')\n",
      "(10, 'Employee Relations')\n",
      "(10, 'Design')\n",
      "(20, 'Database Design')\n"
     ]
    }
   ],
   "source": [
    "# 3. How many employees are there for each skill?\n",
    "\n",
    "cursor.execute('''SELECT COUNT(e.\"employee_ID\"), j.\"skill\"\n",
    "    FROM \"Employees\" e\n",
    "    LEFT JOIN \"Jobs\" j ON e.\"job_code\" = j.\"job_code\"\n",
    "    GROUP BY j.\"skill\";''')\n",
    "\n",
    "rows = cursor.fetchall()\n",
    "conn.commit()\n",
    "for row in rows:\n",
    "    print (row)"
   ]
  },
  {
   "cell_type": "code",
   "execution_count": 62,
   "id": "d65ffdf9",
   "metadata": {},
   "outputs": [
    {
     "name": "stdout",
     "output_type": "stream",
     "text": [
      "('Alice',)\n",
      "('Harry',)\n",
      "('Leo',)\n",
      "('Pamela',)\n",
      "('Quinn',)\n",
      "('Tina',)\n",
      "('Zara',)\n"
     ]
    }
   ],
   "source": [
    "#4. Which employees live in the postal code `08094`? Show only the employee names.\n",
    "\n",
    "cursor.execute('''SELECT \"employee_name\"\n",
    "    FROM \"Employees\" \n",
    "    WHERE employee_address LIKE '%8094%';''')\n",
    "\n",
    "rows = cursor.fetchall()\n",
    "conn.commit()\n",
    "for row in rows:\n",
    "    print (row)\n"
   ]
  },
  {
   "cell_type": "code",
   "execution_count": 55,
   "id": "b8781721",
   "metadata": {},
   "outputs": [
    {
     "name": "stdout",
     "output_type": "stream",
     "text": [
      "('Alice', 'Employee Onboarding')\n",
      "('Bob', 'System Upgrade')\n",
      "('Carol', 'Ad Campaign')\n",
      "('David', 'Training Program')\n",
      "('Eve', 'Data Migration')\n",
      "('Frank', 'Website Redesign')\n",
      "('Grace', 'Mobile App Launch')\n",
      "('Harry', 'Internship Program')\n",
      "('Irene', 'Product Launch')\n",
      "('Jack', 'System Integration')\n",
      "('Jane', 'Employee Onboarding')\n",
      "('John', 'System Upgrade')\n",
      "('Kate', 'Ad Campaign')\n",
      "('Leo', 'Training Program')\n",
      "('Lily', 'Data Migration')\n",
      "('Mark', 'Website Redesign')\n",
      "('Nancy', 'Mobile App Launch')\n",
      "('Oliver', 'Internship Program')\n",
      "('Olivia', 'Product Launch')\n",
      "('Oscar', 'System Integration')\n",
      "('Pamela', 'Employee Onboarding')\n",
      "('Paul', 'System Upgrade')\n",
      "('Quinn', 'Ad Campaign')\n",
      "('Rachel', 'Training Program')\n",
      "('Ryan', 'Data Migration')\n",
      "('Samantha', 'Website Redesign')\n",
      "('Scott', 'Mobile App Launch')\n",
      "('Sophia', 'Internship Program')\n",
      "('Steven', 'Product Launch')\n",
      "('Thomas', 'System Integration')\n",
      "('Victoria', 'Employee Onboarding')\n",
      "('Vincent', 'System Upgrade')\n",
      "('Wendy', 'Ad Campaign')\n",
      "('William', 'Training Program')\n",
      "('Xander', 'Data Migration')\n",
      "('Yasmine', 'Website Redesign')\n",
      "('Zach', 'Mobile App Launch')\n",
      "('Zoe', 'Internship Program')\n",
      "('Zane', 'Product Launch')\n",
      "('Zara', 'System Integration')\n",
      "('Alex', 'Employee Onboarding')\n",
      "('Amy', 'System Upgrade')\n",
      "('Ben', 'Ad Campaign')\n",
      "('Chloe', 'Training Program')\n",
      "('Chris', 'Data Migration')\n",
      "('Diana', 'Website Redesign')\n",
      "('Dan', 'Mobile App Launch')\n",
      "('Emma', 'Internship Program')\n",
      "('Ethan', 'Product Launch')\n",
      "('Emily', 'System Integration')\n",
      "('George', 'Employee Onboarding')\n",
      "('Gina', 'System Upgrade')\n",
      "('Henry', 'Ad Campaign')\n",
      "('Holly', 'Training Program')\n",
      "('Ian', 'Data Migration')\n",
      "('Isabel', 'Website Redesign')\n",
      "('Jackie', 'Mobile App Launch')\n",
      "('James', 'Internship Program')\n",
      "('Jasmine', 'Product Launch')\n",
      "('John', 'System Integration')\n",
      "('Katherine', 'Employee Onboarding')\n",
      "('Kevin', 'System Upgrade')\n",
      "('Laura', 'Ad Campaign')\n",
      "('Liam', 'Training Program')\n",
      "('Lily', 'Data Migration')\n",
      "('Matt', 'Website Redesign')\n",
      "('Mia', 'Mobile App Launch')\n",
      "('Michael', 'Internship Program')\n",
      "('Molly', 'Product Launch')\n",
      "('Nathan', 'System Integration')\n",
      "('Natalie', 'Employee Onboarding')\n",
      "('Noah', 'System Upgrade')\n",
      "('Olivia', 'Ad Campaign')\n",
      "('Owen', 'Training Program')\n",
      "('Penny', 'Data Migration')\n",
      "('Quincy', 'Website Redesign')\n",
      "('Quinn', 'Mobile App Launch')\n",
      "('Rachel', 'Internship Program')\n",
      "('Richard', 'Product Launch')\n",
      "('Rebecca', 'System Integration')\n",
      "('Sophie', 'Employee Onboarding')\n",
      "('Simon', 'System Upgrade')\n",
      "('Taylor', 'Ad Campaign')\n",
      "('Thomas', 'Training Program')\n",
      "('Tracy', 'Data Migration')\n",
      "('Tina', 'Website Redesign')\n",
      "('Victor', 'Mobile App Launch')\n",
      "('Vanessa', 'Internship Program')\n",
      "('William', 'Product Launch')\n",
      "('Wendy', 'System Integration')\n",
      "('Xavier', 'Employee Onboarding')\n",
      "('Yvonne', 'System Upgrade')\n",
      "('Zack', 'Ad Campaign')\n",
      "('Zara', 'Training Program')\n",
      "('Zane', 'Data Migration')\n",
      "('Zoey', 'Website Redesign')\n",
      "('Zachary', 'Mobile App Launch')\n",
      "('Zoe', 'Internship Program')\n",
      "('Ziggy', 'Product Launch')\n",
      "('Zander', 'System Integration')\n"
     ]
    }
   ],
   "source": [
    "#5. Which employees are currently assigned to specific projects? Show the employee name and project name.\n",
    "\n",
    "cursor.execute('''SELECT e.\"employee_name\", p.\"project_name\"\n",
    "    FROM \"Employees\" e\n",
    "    LEFT JOIN \"Projects\" p ON e.\"project_ID\" = p.\"project_ID\";''')\n",
    "\n",
    "rows = cursor.fetchall()\n",
    "conn.commit()\n",
    "for row in rows:\n",
    "    print (row)"
   ]
  },
  {
   "cell_type": "code",
   "execution_count": 69,
   "id": "afc914f8",
   "metadata": {},
   "outputs": [
    {
     "name": "stdout",
     "output_type": "stream",
     "text": [
      "('Mobile App Launch', 'In Progress')\n"
     ]
    }
   ],
   "source": [
    "#6. Provide information about the projects related to the 'Mobile App Launch' initiative.\n",
    "\n",
    "cursor.execute('''SELECT p.\"project_name\", s.\"project_status\"\n",
    "    FROM \"Projects\" p\n",
    "    INNER JOIN \"Status\" s ON p.\"status_ID\" = s.\"status_ID\"\n",
    "    WHERE p.\"project_name\" = 'Mobile App Launch';''')\n",
    "\n",
    "rows = cursor.fetchall()\n",
    "conn.commit()\n",
    "\n",
    "for row in rows:\n",
    "    print (row)\n",
    "    \n"
   ]
  },
  {
   "cell_type": "code",
   "execution_count": 79,
   "id": "d10d6b0d",
   "metadata": {},
   "outputs": [
    {
     "name": "stdout",
     "output_type": "stream",
     "text": [
      "('Marketing', 20)\n",
      "('Programming', 10)\n",
      "('Recruiting', 10)\n"
     ]
    }
   ],
   "source": [
    "# 7. What skills are most in demand for the projects in progress?\n",
    "cursor.execute('''SELECT j.\"skill\", COUNT(j.\"skill\")\n",
    "    FROM \"Employees\" e\n",
    "    LEFT JOIN \"Jobs\" j ON e.\"job_code\" = j.\"job_code\"\n",
    "    LEFT JOIN \"Projects\" p ON e.\"project_ID\" = p.\"project_ID\"\n",
    "    LEFT JOIN \"Status\" s ON p.\"status_ID\" = s.\"status_ID\"\n",
    "    GROUP BY j.\"skill\", s.project_status\n",
    "    HAVING s.project_status = 'In Progress';''')\n",
    "\n",
    "rows = cursor.fetchall()\n",
    "conn.commit()\n",
    "\n",
    "for row in rows:\n",
    "    print (row)\n"
   ]
  },
  {
   "cell_type": "code",
   "execution_count": 82,
   "id": "8020b6a3",
   "metadata": {},
   "outputs": [
    {
     "name": "stdout",
     "output_type": "stream",
     "text": [
      "('Completed', 30)\n",
      "('In Progress', 40)\n"
     ]
    }
   ],
   "source": [
    "#8. How many employees have completed their projects, and how many are still in progress?\n",
    "\n",
    "cursor.execute('''SELECT s.project_status, COUNT(e.\"employee_ID\") \n",
    "    FROM \"Employees\" e\n",
    "    LEFT JOIN \"Projects\" p ON e.\"project_ID\" = p.\"project_ID\"\n",
    "    LEFT JOIN \"Status\" s ON p.\"status_ID\" = s.\"status_ID\"\n",
    "    GROUP BY s.\"project_status\"\n",
    "    HAVING s.project_status = 'Completed' OR s.project_status = 'In Progress' ;''')\n",
    "\n",
    "rows = cursor.fetchall()\n",
    "conn.commit()\n",
    "\n",
    "for row in rows:\n",
    "    print (row)"
   ]
  },
  {
   "cell_type": "code",
   "execution_count": 95,
   "id": "da149b30",
   "metadata": {},
   "outputs": [
    {
     "name": "stdout",
     "output_type": "stream",
     "text": [
      "('HR', 'In Progress', 10)\n",
      "('HR', 'Not Started', 20)\n",
      "('IT', 'Completed', 20)\n",
      "('IT', 'In Progress', 10)\n",
      "('IT', 'Not Started', 10)\n",
      "('Marketing', 'Completed', 10)\n",
      "('Marketing', 'In Progress', 20)\n"
     ]
    }
   ],
   "source": [
    "#9. What is the distribution of project statuses within each department?\n",
    "\n",
    "cursor.execute('''SELECT j.\"department\", s.\"project_status\", COUNT(s.\"project_status\")\n",
    "    FROM \"Employees\" e\n",
    "    LEFT JOIN \"Jobs\" j ON e.\"job_code\" = j.\"job_code\"\n",
    "    LEFT JOIN \"Projects\" p ON e.\"project_ID\" = p.\"project_ID\"\n",
    "    LEFT JOIN \"Status\" s ON p.\"status_ID\" = s.\"status_ID\"\n",
    "    GROUP BY j.\"department\", s.\"project_status\"\n",
    "    ORDER BY j.\"department\", s.\"project_status\"\n",
    "    ;''')\n",
    "\n",
    "rows = cursor.fetchall()\n",
    "conn.commit()\n",
    "\n",
    "for row in rows:\n",
    "    print (row)\n"
   ]
  },
  {
   "cell_type": "code",
   "execution_count": 100,
   "id": "3391fc4f",
   "metadata": {},
   "outputs": [],
   "source": [
    "conn.rollback()"
   ]
  },
  {
   "cell_type": "code",
   "execution_count": 101,
   "id": "a8d580f4",
   "metadata": {},
   "outputs": [
    {
     "name": "stdout",
     "output_type": "stream",
     "text": [
      "('Grace', 'IT', 'Mobile App Launch')\n",
      "('Nancy', 'IT', 'Mobile App Launch')\n",
      "('Scott', 'IT', 'Mobile App Launch')\n",
      "('Zach', 'IT', 'Mobile App Launch')\n",
      "('Dan', 'IT', 'Mobile App Launch')\n",
      "('Jackie', 'IT', 'Mobile App Launch')\n",
      "('Mia', 'IT', 'Mobile App Launch')\n",
      "('Quinn', 'IT', 'Mobile App Launch')\n",
      "('Victor', 'IT', 'Mobile App Launch')\n",
      "('Zachary', 'IT', 'Mobile App Launch')\n"
     ]
    }
   ],
   "source": [
    "# 10. Find Employees with Programming Skills Working on In-Progress Projects. Show only the employee name, department, and project name.\n",
    "\n",
    "cursor.execute('''SELECT e.\"employee_name\", j.\"department\", p.\"project_name\"\n",
    "    FROM \"Employees\" e\n",
    "    LEFT JOIN \"Jobs\" j ON e.\"job_code\" = j.\"job_code\"\n",
    "    LEFT JOIN \"Projects\" p ON e.\"project_ID\" = p.\"project_ID\"\n",
    "    LEFT JOIN \"Status\" s ON p.\"status_ID\" = s.\"status_ID\"\n",
    "    WHERE j.\"skill\" = 'Programming' AND s.\"project_status\" = 'In Progress'\n",
    "    ;''')\n",
    "\n",
    "rows = cursor.fetchall()\n",
    "conn.commit()\n",
    "\n",
    "for row in rows:\n",
    "    print (row)\n"
   ]
  },
  {
   "cell_type": "code",
   "execution_count": null,
   "id": "3b2e75d7",
   "metadata": {},
   "outputs": [],
   "source": []
  }
 ],
 "metadata": {
  "kernelspec": {
   "display_name": "Python 3 (ipykernel)",
   "language": "python",
   "name": "python3"
  },
  "language_info": {
   "codemirror_mode": {
    "name": "ipython",
    "version": 3
   },
   "file_extension": ".py",
   "mimetype": "text/x-python",
   "name": "python",
   "nbconvert_exporter": "python",
   "pygments_lexer": "ipython3",
   "version": "3.11.5"
  }
 },
 "nbformat": 4,
 "nbformat_minor": 5
}
